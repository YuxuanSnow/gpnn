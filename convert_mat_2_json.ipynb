{
 "cells": [
  {
   "cell_type": "code",
   "execution_count": 8,
   "metadata": {},
   "outputs": [],
   "source": [
    "import scipy.io\n",
    "anno_box = scipy.io.loadmat('/home/yuxuan/gpnn/tmp/hico/hico_20160224_det/anno_bbox.mat')"
   ]
  },
  {
   "cell_type": "code",
   "execution_count": 57,
   "metadata": {},
   "outputs": [],
   "source": [
    "import numpy as np\n",
    "from tqdm import tqdm\n",
    "import scipy.io as scio\n",
    "import json\n",
    "\n",
    "def write(file_name, data, mode='wb'):\n",
    "    with open(file_name, mode) as f:\n",
    "        f.write(data)\n",
    "        \n",
    "class NumpyAwareJSONEncoder(json.JSONEncoder):\n",
    "    def default(self, obj):\n",
    "        if isinstance(obj, np.ndarray):\n",
    "            if obj.ndim == 1:\n",
    "                return obj.tolist()\n",
    "            else:\n",
    "                return [self.default(obj[i]) for i in range(obj.shape[0])]\n",
    "        elif isinstance(obj, np.int64):\n",
    "            return int(obj)\n",
    "        elif isinstance(obj, np.int32):\n",
    "            return int(obj)\n",
    "        elif isinstance(obj, np.int16):\n",
    "            return int(obj)\n",
    "        elif isinstance(obj, np.float64):\n",
    "            return float(obj)\n",
    "        elif isinstance(obj, np.float32):\n",
    "            return float(obj)\n",
    "        elif isinstance(obj, np.float16):\n",
    "            return float(obj)\n",
    "        elif isinstance(obj, np.uint64):\n",
    "            return int(obj)\n",
    "        elif isinstance(obj, np.uint32):\n",
    "            return int(obj)\n",
    "        elif isinstance(obj, np.uint16):\n",
    "            return int(obj)\n",
    "        return json.JSONEncoder.default(self, obj)"
   ]
  },
  {
   "cell_type": "code",
   "execution_count": 70,
   "metadata": {},
   "outputs": [],
   "source": [
    "class ConvertMat2Json():\n",
    "    def __init__(self):\n",
    "        #self.const = const\n",
    "        self.anno = scio.loadmat('/home/yuxuan/gpnn/tmp/hico/hico_20160224_det/anno.mat')\n",
    "        self.anno_bbox = scio.loadmat('/home/yuxuan/gpnn/tmp/hico/hico_20160224_det/anno_bbox.mat')\n",
    "        \n",
    "    def create_hoi_list(self):\n",
    "        num_hoi = self.anno['list_action'].shape[0]\n",
    "        hoi_list = [None]*num_hoi\n",
    "        for i in range(num_hoi):\n",
    "            hoi_list[i] = {\n",
    "                'id': str(i+1).zfill(3),\n",
    "                'object': self.anno['list_action'][i,0][0][0],\n",
    "                'verb': self.anno['list_action'][i,0][1][0],\n",
    "            }\n",
    "        \n",
    "        return hoi_list\n",
    "\n",
    "    def get_image_size(self,i,subset):\n",
    "        W = self.anno_bbox[f'bbox_{subset}'][0,i][1][0,0][0][0,0]\n",
    "        H = self.anno_bbox[f'bbox_{subset}'][0,i][1][0,0][1][0,0]\n",
    "        C = self.anno_bbox[f'bbox_{subset}'][0,i][1][0,0][2][0,0]\n",
    "        image_size = [int(v) for v in [H,W,C]]\n",
    "        return image_size\n",
    "\n",
    "    def get_hoi_bboxes(self,i,subset):\n",
    "        num_hois = self.anno_bbox[f'bbox_{subset}'][0,i][2].shape[1]\n",
    "        hois = [None]*num_hois\n",
    "        for j in range(num_hois):\n",
    "            hoi_data = self.anno_bbox[f'bbox_{subset}'][0,i][2][0,j]\n",
    "            \n",
    "            hoi_id = str(hoi_data[0][0,0]).zfill(3)    \n",
    "        \n",
    "            num_boxes = hoi_data[1].shape[1]\n",
    "            human_bboxes = [None]*num_boxes\n",
    "            for b in range(num_boxes):\n",
    "                human_bboxes[b] = \\\n",
    "                    [int(hoi_data[1][0,b][k][0,0]-1) for k in [0,2,1,3]]\n",
    "            \n",
    "            num_boxes = hoi_data[2].shape[1]\n",
    "            object_bboxes = [None]*num_boxes\n",
    "            for b in range(num_boxes):\n",
    "                object_bboxes[b] = \\\n",
    "                    [int(hoi_data[2][0,b][k][0,0]-1) for k in [0,2,1,3]]\n",
    "\n",
    "            connections = (hoi_data[3]-1).tolist()\n",
    "\n",
    "            invis = int(hoi_data[4][0,0])\n",
    "\n",
    "            hois[j] = {\n",
    "                'id': hoi_id,\n",
    "                'human_bboxes': human_bboxes,\n",
    "                'object_bboxes': object_bboxes,\n",
    "                'connections': connections,\n",
    "                'invis': invis,\n",
    "            }\n",
    "        \n",
    "        return hois\n",
    "\n",
    "    def create_anno_list(self):\n",
    "        anno_list = []\n",
    "        for subset in ['train','test']:\n",
    "            print(f'Adding {subset} data to anno list ...')\n",
    "            num_samples = self.anno[f'anno_{subset}'].shape[1]\n",
    "            for i in tqdm(range(num_samples)):\n",
    "                image_jpg = self.anno[f'list_{subset}'][i][0][0]\n",
    "                \n",
    "                if image_jpg.endswith('.jpg'):\n",
    "                    global_id = image_jpg[:-4]\n",
    "                else:\n",
    "                    assert(False), 'Image extension is not .jpg'\n",
    "\n",
    "                anno = {\n",
    "                    'global_id': global_id,\n",
    "                    'image_path_postfix': f'{subset}2015/{image_jpg}',\n",
    "                    'image_size': self.get_image_size(i,subset),\n",
    "                    'hois': self.get_hoi_bboxes(i,subset)\n",
    "                }\n",
    "\n",
    "                anno['pos_hoi_ids'] = [str(k[0]+1).zfill(3) for k in \\\n",
    "                    np.argwhere(self.anno[f'anno_{subset}'][:,i]==1).tolist()]\n",
    "                anno['neg_hoi_ids'] = [str(k[0]+1).zfill(3) for k in \\\n",
    "                    np.argwhere(self.anno[f'anno_{subset}'][:,i]==-1).tolist()]\n",
    "\n",
    "                anno_list.append(anno)\n",
    "\n",
    "        return anno_list\n",
    "\n",
    "    def convert(self):\n",
    "        print('Creating anno list ...')\n",
    "        anno_list = self.create_anno_list()\n",
    "        data = json.dumps(anno_list,cls=NumpyAwareJSONEncoder, sort_keys=True, indent=4).encode()\n",
    "        write(\"/home/yuxuan/anno_list.json\", data)\n",
    "\n",
    "        print('Creating hoi list ...')\n",
    "        hoi_list = self.create_hoi_list()\n",
    "        data = json.dumps(hoi_list,cls=NumpyAwareJSONEncoder, sort_keys=True, indent=4).encode()\n",
    "        write(\"/home/yuxuan/hoi_list.json\", data)\n",
    "\n",
    "        print('Creating object list ...')\n",
    "        object_list = sorted(list(set([hoi['object'] for hoi in hoi_list])))\n",
    "        for i,obj in enumerate(object_list):\n",
    "            object_list[i] = {\n",
    "                'id': str(i+1).zfill(3),\n",
    "                'name': obj\n",
    "            }\n",
    "        \n",
    "        data = json.dumps(object_list,cls=NumpyAwareJSONEncoder, sort_keys=True, indent=4).encode()\n",
    "        write(\"/home/yuxuan/object_list.json\", data)\n",
    "        \n",
    "        print('Creating verb list ...')\n",
    "        verb_list = sorted(list(set([hoi['verb'] for hoi in hoi_list])))\n",
    "        for i,verb in enumerate(verb_list):\n",
    "            verb_list[i] = {\n",
    "                'id': str(i+1).zfill(3),\n",
    "                'name': verb\n",
    "            }\n",
    "        \n",
    "        data = json.dumps(verb_list,cls=NumpyAwareJSONEncoder, sort_keys=True, indent=4).encode()\n",
    "        write(\"/home/yuxuan/verb_list.json\", data)"
   ]
  },
  {
   "cell_type": "code",
   "execution_count": 71,
   "metadata": {},
   "outputs": [
    {
     "name": "stderr",
     "output_type": "stream",
     "text": [
      "  4%|▍         | 1523/38118 [00:00<00:04, 7671.08it/s]"
     ]
    },
    {
     "name": "stdout",
     "output_type": "stream",
     "text": [
      "Creating anno list ...\n",
      "Adding train data to anno list ...\n"
     ]
    },
    {
     "name": "stderr",
     "output_type": "stream",
     "text": [
      "100%|██████████| 38118/38118 [00:05<00:00, 6637.03it/s]\n",
      " 15%|█▌        | 1471/9658 [00:00<00:01, 7364.72it/s]"
     ]
    },
    {
     "name": "stdout",
     "output_type": "stream",
     "text": [
      "Adding test data to anno list ...\n"
     ]
    },
    {
     "name": "stderr",
     "output_type": "stream",
     "text": [
      "100%|██████████| 9658/9658 [00:01<00:00, 4835.88it/s]\n"
     ]
    },
    {
     "name": "stdout",
     "output_type": "stream",
     "text": [
      "Creating hoi list ...\n",
      "Creating object list ...\n",
      "Creating verb list ...\n"
     ]
    }
   ],
   "source": [
    "converter = ConvertMat2Json()\n",
    "converter.convert()"
   ]
  },
  {
   "cell_type": "code",
   "execution_count": null,
   "metadata": {},
   "outputs": [],
   "source": []
  }
 ],
 "metadata": {
  "kernelspec": {
   "display_name": "Python 3",
   "language": "python",
   "name": "python3"
  },
  "language_info": {
   "codemirror_mode": {
    "name": "ipython",
    "version": 3
   },
   "file_extension": ".py",
   "mimetype": "text/x-python",
   "name": "python",
   "nbconvert_exporter": "python",
   "pygments_lexer": "ipython3",
   "version": "3.8.5"
  }
 },
 "nbformat": 4,
 "nbformat_minor": 4
}
