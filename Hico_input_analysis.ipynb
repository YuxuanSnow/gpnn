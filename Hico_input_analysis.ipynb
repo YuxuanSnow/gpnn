{
 "cells": [
  {
   "cell_type": "code",
   "execution_count": 51,
   "metadata": {},
   "outputs": [],
   "source": [
    "import pickle\n",
    "import numpy as np\n",
    "\n",
    "#data = pickle.load(open( \"/home/yuxuan/gpnn/tmp/hico/processed/hico_data_background_49/HICO_train2015_00029234.p\", \"rb\" ))\n",
    "data = pickle.load(open( \"/home/yuxuan/gpnn/tmp/hico/processed/hico_data_background_49/HICO_train2015_00000004.p\", \"rb\" ))"
   ]
  },
  {
   "cell_type": "code",
   "execution_count": 46,
   "metadata": {},
   "outputs": [],
   "source": [
    "edge_features = np.load(\"/home/yuxuan/gpnn/tmp/hico/processed/hico_data_background_49/HICO_train2015_00000004_edge_features.npy\")\n",
    "node_features = np.load(\"/home/yuxuan/gpnn/tmp/hico/processed/hico_data_background_49/HICO_train2015_00000004_node_features.npy\")"
   ]
  },
  {
   "cell_type": "code",
   "execution_count": 47,
   "metadata": {},
   "outputs": [
    {
     "data": {
      "text/plain": [
       "(9, 117)"
      ]
     },
     "execution_count": 47,
     "metadata": {},
     "output_type": "execute_result"
    }
   ],
   "source": [
    "data[\"node_labels\"].shape\n",
    "# 117 action classes"
   ]
  },
  {
   "cell_type": "code",
   "execution_count": 48,
   "metadata": {},
   "outputs": [
    {
     "name": "stdout",
     "output_type": "stream",
     "text": [
      "('node features dimension', (9, 298))\n",
      "('edge features dimension:', (9, 9, 200))\n"
     ]
    }
   ],
   "source": [
    "print(\"node features dimension\", node_features.shape)\n",
    "print(\"edge features dimension:\", edge_features.shape)"
   ]
  },
  {
   "cell_type": "code",
   "execution_count": 50,
   "metadata": {},
   "outputs": [
    {
     "data": {
      "text/plain": [
       "68"
      ]
     },
     "execution_count": 50,
     "metadata": {},
     "output_type": "execute_result"
    }
   ],
   "source": [
    "data[\"boxes\"].size"
   ]
  },
  {
   "cell_type": "code",
   "execution_count": 52,
   "metadata": {},
   "outputs": [
    {
     "data": {
      "text/plain": [
       "{'adj_mat': array([[0., 0., 0., 0., 0., 0., 0., 0., 0.],\n",
       "        [0., 0., 0., 0., 0., 0., 0., 0., 0.],\n",
       "        [0., 0., 0., 0., 0., 0., 0., 0., 0.],\n",
       "        [0., 0., 0., 0., 0., 0., 0., 0., 0.],\n",
       "        [0., 0., 0., 0., 0., 0., 0., 0., 0.],\n",
       "        [0., 0., 0., 0., 0., 0., 0., 0., 0.],\n",
       "        [0., 0., 0., 0., 0., 0., 0., 0., 0.],\n",
       "        [0., 0., 0., 0., 0., 0., 0., 0., 0.],\n",
       "        [0., 0., 0., 0., 0., 0., 0., 0., 0.]]),\n",
       " 'boxes': array([[ 71.43327105, 193.16258493, 149.6563255 , 363.12585085],\n",
       "        [492.65315419, 196.92076737, 634.60953728, 303.35802633],\n",
       "        [500.26627051, 213.58740715, 524.89923851, 275.65973381],\n",
       "        [211.94396414,  30.7806409 , 492.82267721, 365.05620785],\n",
       "        [208.05217799, 227.08175393, 253.64432348, 292.72166224],\n",
       "        [132.8795389 , 205.74912939, 167.9611286 , 289.69589324],\n",
       "        [134.33484064, 222.61006493, 237.10596628, 363.5252263 ],\n",
       "        [183.03809906,  84.89771417, 359.39582386, 282.28838531],\n",
       "        [123.27370777, 305.4319188 , 144.01615466, 371.88824522],\n",
       "        [ 71.43327105, 193.16258493, 149.6563255 , 371.88824522],\n",
       "        [123.27370777, 196.92076737, 634.60953728, 371.88824522],\n",
       "        [123.27370777, 213.58740715, 524.89923851, 371.88824522],\n",
       "        [123.27370777,  30.7806409 , 492.82267721, 371.88824522],\n",
       "        [123.27370777, 227.08175393, 253.64432348, 371.88824522],\n",
       "        [123.27370777, 205.74912939, 167.9611286 , 371.88824522],\n",
       "        [123.27370777, 222.61006493, 237.10596628, 371.88824522],\n",
       "        [123.27370777,  84.89771417, 359.39582386, 371.88824522]]),\n",
       " 'classes': array([ 1,  1,  1,  1,  1,  1,  1,  1, 40,  0,  0,  0,  0,  0,  0,  0,  0]),\n",
       " 'human_num': 8,\n",
       " 'img_name': u'HICO_train2015_00000004',\n",
       " 'node_labels': array([[0., 0., 0., ..., 0., 0., 0.],\n",
       "        [0., 0., 0., ..., 0., 0., 0.],\n",
       "        [0., 0., 0., ..., 0., 0., 0.],\n",
       "        ...,\n",
       "        [0., 0., 0., ..., 0., 0., 0.],\n",
       "        [0., 0., 0., ..., 0., 0., 0.],\n",
       "        [0., 0., 0., ..., 0., 0., 0.]]),\n",
       " 'obj_num': 1}"
      ]
     },
     "execution_count": 52,
     "metadata": {},
     "output_type": "execute_result"
    }
   ],
   "source": [
    "data"
   ]
  },
  {
   "cell_type": "code",
   "execution_count": 1,
   "metadata": {},
   "outputs": [
    {
     "data": {
      "text/plain": [
       "117"
      ]
     },
     "execution_count": 1,
     "metadata": {},
     "output_type": "execute_result"
    }
   ],
   "source": [
    "action_classes = ['adjust', 'assemble', 'block', 'blow', 'board', 'break', 'brush_with', 'buy', 'carry', 'catch',\n",
    "                   'chase', 'check', 'clean', 'control', 'cook', 'cut', 'cut_with', 'direct', 'drag', 'dribble',\n",
    "                   'drink_with', 'drive', 'dry', 'eat', 'eat_at', 'exit', 'feed', 'fill', 'flip', 'flush', 'fly',\n",
    "                   'greet', 'grind', 'groom', 'herd', 'hit', 'hold', 'hop_on', 'hose', 'hug', 'hunt', 'inspect',\n",
    "                   'install', 'jump', 'kick', 'kiss', 'lasso', 'launch', 'lick', 'lie_on', 'lift', 'light', 'load',\n",
    "                  'lose', 'make', 'milk', 'move', 'no_interaction', 'open', 'operate', 'pack', 'paint', 'park', 'pay',\n",
    "                  'peel', 'pet', 'pick', 'pick_up', 'point', 'pour', 'pull', 'push', 'race', 'read', 'release',\n",
    "                   'repair', 'ride', 'row', 'run', 'sail', 'scratch', 'serve', 'set', 'shear', 'sign', 'sip', 'sit_at',\n",
    "                   'sit_on', 'slide', 'smell', 'spin', 'squeeze', 'stab', 'stand_on', 'stand_under', 'stick', 'stir',\n",
    "                   'stop_at', 'straddle', 'swing', 'tag', 'talk_on', 'teach', 'text_on', 'throw', 'tie', 'toast',\n",
    "                   'train', 'turn', 'type_on', 'walk', 'wash', 'watch', 'wave', 'wear', 'wield', 'zip']\n",
    "len(action_classes)"
   ]
  }
 ],
 "metadata": {
  "kernelspec": {
   "display_name": "Python 2",
   "language": "python",
   "name": "python2"
  },
  "language_info": {
   "codemirror_mode": {
    "name": "ipython",
    "version": 2
   },
   "file_extension": ".py",
   "mimetype": "text/x-python",
   "name": "python",
   "nbconvert_exporter": "python",
   "pygments_lexer": "ipython2",
   "version": "2.7.18"
  }
 },
 "nbformat": 4,
 "nbformat_minor": 2
}
